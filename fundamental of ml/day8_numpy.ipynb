{
 "cells": [
  {
   "cell_type": "code",
   "execution_count": 1,
   "metadata": {},
   "outputs": [],
   "source": [
    "import numpy"
   ]
  },
  {
   "cell_type": "code",
   "execution_count": null,
   "metadata": {},
   "outputs": [],
   "source": [
    "# git init\n",
    "\n",
    "\n",
    "# git commit --global user.name \"ishu kumar\"\n",
    "# git commit --global user.email \"2020pietcsishu80@poornima.org\"\n",
    "# git add .\n",
    "\n",
    "# git commit -m \"first commit\"\n",
    "\n",
    "# git remote add origin https://github.com/Ishu214214/ai_and_dl.git\n",
    "\n",
    "\n",
    "# git push origin main"
   ]
  }
 ],
 "metadata": {
  "kernelspec": {
   "display_name": "Python 3",
   "language": "python",
   "name": "python3"
  },
  "language_info": {
   "codemirror_mode": {
    "name": "ipython",
    "version": 3
   },
   "file_extension": ".py",
   "mimetype": "text/x-python",
   "name": "python",
   "nbconvert_exporter": "python",
   "pygments_lexer": "ipython3",
   "version": "3.9.7"
  },
  "orig_nbformat": 4
 },
 "nbformat": 4,
 "nbformat_minor": 2
}
